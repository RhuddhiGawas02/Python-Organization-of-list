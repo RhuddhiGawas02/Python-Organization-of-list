{
 "cells": [
  {
   "cell_type": "code",
   "execution_count": null,
   "metadata": {},
   "outputs": [],
   "source": [
    "######    Organization  of list    #######\n",
    "------------------------------------------------------------"
   ]
  },
  {
   "cell_type": "code",
   "execution_count": 1,
   "metadata": {},
   "outputs": [],
   "source": [
    "Names =[\"Saurabh\",\"Sanika\",\"Shrutika\",\"Nehal\",\"Mansi\",\"Prathmesh\",\"Pranit\",\"Nehal\",\"Shubham\"]"
   ]
  },
  {
   "cell_type": "code",
   "execution_count": 2,
   "metadata": {},
   "outputs": [
    {
     "data": {
      "text/plain": [
       "list"
      ]
     },
     "execution_count": 2,
     "metadata": {},
     "output_type": "execute_result"
    }
   ],
   "source": [
    "type(Names)"
   ]
  },
  {
   "cell_type": "code",
   "execution_count": null,
   "metadata": {},
   "outputs": [],
   "source": [
    "#For sorting list\n",
    "There are 2 ways:\n",
    "    1}temporary : changes in temp way we can access previous list as it is\n",
    "                keyword: sorted()\n",
    "                syntax: sorted(listName)\n",
    "    2)permanent: changes are permanently we couldn't access previious list\n",
    "                keyword: sort()\n",
    "                Syntax: listName.sort()"
   ]
  },
  {
   "cell_type": "code",
   "execution_count": null,
   "metadata": {},
   "outputs": [],
   "source": []
  },
  {
   "cell_type": "code",
   "execution_count": null,
   "metadata": {},
   "outputs": [],
   "source": [
    "Temporary way ......"
   ]
  },
  {
   "cell_type": "code",
   "execution_count": 3,
   "metadata": {},
   "outputs": [
    {
     "data": {
      "text/plain": [
       "['Mansi',\n",
       " 'Nehal',\n",
       " 'Nehal',\n",
       " 'Pranit',\n",
       " 'Prathmesh',\n",
       " 'Sanika',\n",
       " 'Saurabh',\n",
       " 'Shrutika',\n",
       " 'Shubham']"
      ]
     },
     "execution_count": 3,
     "metadata": {},
     "output_type": "execute_result"
    }
   ],
   "source": [
    "sorted(Names)"
   ]
  },
  {
   "cell_type": "code",
   "execution_count": 4,
   "metadata": {},
   "outputs": [
    {
     "name": "stdout",
     "output_type": "stream",
     "text": [
      "['Mansi', 'Nehal', 'Nehal', 'Pranit', 'Prathmesh', 'Sanika', 'Saurabh', 'Shrutika', 'Shubham']\n"
     ]
    }
   ],
   "source": [
    "print(sorted(Names))#sorted alphabetically "
   ]
  },
  {
   "cell_type": "code",
   "execution_count": 5,
   "metadata": {},
   "outputs": [
    {
     "name": "stdout",
     "output_type": "stream",
     "text": [
      "['Saurabh', 'Sanika', 'Shrutika', 'Nehal', 'Mansi', 'Prathmesh', 'Pranit', 'Nehal', 'Shubham']\n"
     ]
    }
   ],
   "source": [
    "print(Names) #original list"
   ]
  },
  {
   "cell_type": "code",
   "execution_count": null,
   "metadata": {},
   "outputs": [],
   "source": []
  },
  {
   "cell_type": "code",
   "execution_count": null,
   "metadata": {},
   "outputs": [],
   "source": [
    "#permanent Way"
   ]
  },
  {
   "cell_type": "code",
   "execution_count": 7,
   "metadata": {},
   "outputs": [],
   "source": [
    "Names.sort() #permanent sort"
   ]
  },
  {
   "cell_type": "code",
   "execution_count": 8,
   "metadata": {},
   "outputs": [
    {
     "name": "stdout",
     "output_type": "stream",
     "text": [
      "['Mansi', 'Nehal', 'Nehal', 'Pranit', 'Prathmesh', 'Sanika', 'Saurabh', 'Shrutika', 'Shubham']\n"
     ]
    }
   ],
   "source": [
    "print(Names) # print sorted list"
   ]
  },
  {
   "cell_type": "code",
   "execution_count": null,
   "metadata": {},
   "outputs": [],
   "source": []
  },
  {
   "cell_type": "code",
   "execution_count": null,
   "metadata": {},
   "outputs": [],
   "source": [
    "# TO find NUmber of element in list\n",
    "len is used\n",
    "Keyword: len()\n",
    "Syntax: len(listName)"
   ]
  },
  {
   "cell_type": "code",
   "execution_count": 9,
   "metadata": {},
   "outputs": [
    {
     "data": {
      "text/plain": [
       "9"
      ]
     },
     "execution_count": 9,
     "metadata": {},
     "output_type": "execute_result"
    }
   ],
   "source": [
    "len(Names)# TO find NUmber of element in list"
   ]
  },
  {
   "cell_type": "code",
   "execution_count": null,
   "metadata": {},
   "outputs": [],
   "source": []
  },
  {
   "cell_type": "code",
   "execution_count": null,
   "metadata": {},
   "outputs": [],
   "source": [
    "#For reverse list\n",
    "reverse is used\n",
    "Keyword: reverse()\n",
    "Syntex: listName.reverse()"
   ]
  },
  {
   "cell_type": "code",
   "execution_count": 10,
   "metadata": {},
   "outputs": [
    {
     "name": "stdout",
     "output_type": "stream",
     "text": [
      "['Mansi', 'Nehal', 'Nehal', 'Pranit', 'Prathmesh', 'Sanika', 'Saurabh', 'Shrutika', 'Shubham']\n"
     ]
    }
   ],
   "source": [
    "print(Names)"
   ]
  },
  {
   "cell_type": "code",
   "execution_count": 11,
   "metadata": {},
   "outputs": [],
   "source": [
    "Names.reverse()"
   ]
  },
  {
   "cell_type": "code",
   "execution_count": 12,
   "metadata": {},
   "outputs": [
    {
     "name": "stdout",
     "output_type": "stream",
     "text": [
      "['Shubham', 'Shrutika', 'Saurabh', 'Sanika', 'Prathmesh', 'Pranit', 'Nehal', 'Nehal', 'Mansi']\n"
     ]
    }
   ],
   "source": [
    "print(Names)"
   ]
  },
  {
   "cell_type": "code",
   "execution_count": null,
   "metadata": {},
   "outputs": [],
   "source": []
  },
  {
   "cell_type": "code",
   "execution_count": null,
   "metadata": {},
   "outputs": [],
   "source": [
    "#For delete 1 element in a list\n",
    "pop is used\n",
    "pop is internal carbon copy of the deleted element/item\n",
    "this is delete last element from the list temperory\n",
    "we can also asing index no of element of list which is started by 0\n",
    "Keyword: pop()\n",
    "Syntax: listName.pop([index no.])\n"
   ]
  },
  {
   "cell_type": "code",
   "execution_count": null,
   "metadata": {},
   "outputs": [],
   "source": [
    "# delete last element from the list"
   ]
  },
  {
   "cell_type": "code",
   "execution_count": 13,
   "metadata": {},
   "outputs": [],
   "source": [
    "x= Names.pop()"
   ]
  },
  {
   "cell_type": "code",
   "execution_count": 15,
   "metadata": {},
   "outputs": [
    {
     "name": "stdout",
     "output_type": "stream",
     "text": [
      "after removing last element of the list , ['Shubham', 'Shrutika', 'Saurabh', 'Sanika', 'Prathmesh', 'Pranit', 'Nehal', 'Nehal']\n"
     ]
    }
   ],
   "source": [
    "print(f\"after removing last element of the list , {Names}\")"
   ]
  },
  {
   "cell_type": "code",
   "execution_count": 16,
   "metadata": {},
   "outputs": [
    {
     "name": "stdout",
     "output_type": "stream",
     "text": [
      "removed element is , Mansi\n"
     ]
    }
   ],
   "source": [
    "print(f\"removed element is , {x}\")"
   ]
  },
  {
   "cell_type": "code",
   "execution_count": null,
   "metadata": {},
   "outputs": [],
   "source": [
    "#delete 4rth element from list"
   ]
  },
  {
   "cell_type": "code",
   "execution_count": 17,
   "metadata": {},
   "outputs": [],
   "source": [
    "y=Names.pop(3)"
   ]
  },
  {
   "cell_type": "code",
   "execution_count": 18,
   "metadata": {},
   "outputs": [
    {
     "name": "stdout",
     "output_type": "stream",
     "text": [
      "after removing 4rth element of the list , ['Shubham', 'Shrutika', 'Saurabh', 'Prathmesh', 'Pranit', 'Nehal', 'Nehal']\n"
     ]
    }
   ],
   "source": [
    "print(f\"after removing 4rth element of the list , {Names}\")"
   ]
  },
  {
   "cell_type": "code",
   "execution_count": 21,
   "metadata": {},
   "outputs": [
    {
     "name": "stdout",
     "output_type": "stream",
     "text": [
      "removed element is , Sanika\n"
     ]
    }
   ],
   "source": [
    "print(f\"removed element is , {y}\")"
   ]
  },
  {
   "cell_type": "code",
   "execution_count": null,
   "metadata": {},
   "outputs": [],
   "source": []
  }
 ],
 "metadata": {
  "kernelspec": {
   "display_name": "Python 3",
   "language": "python",
   "name": "python3"
  },
  "language_info": {
   "codemirror_mode": {
    "name": "ipython",
    "version": 3
   },
   "file_extension": ".py",
   "mimetype": "text/x-python",
   "name": "python",
   "nbconvert_exporter": "python",
   "pygments_lexer": "ipython3",
   "version": "3.8.3"
  }
 },
 "nbformat": 4,
 "nbformat_minor": 4
}
